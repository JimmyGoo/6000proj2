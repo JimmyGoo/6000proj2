{
  "cells": [
    {
      "cell_type": "code",
      "source": [
        "import numpy as np\n",
        "import math\n",
        "from numpy.random import normal\n",
        "from typing import Optional, Union, Callable\n",
        "\n",
        "import tensorflow as tf\n",
        "tf.compat.v1.experimental.output_all_intermediates(True)\n",
        "from tensorflow.keras.layers import Dense, Input, LSTM, Layer, TimeDistributed, Lambda, Activation\n",
        "from tensorflow.keras.initializers import Ones, Zeros\n",
        "from tensorflow.keras.models import Model\n",
        "from tensorflow.keras import backend as K\n",
        "from tensorflow.keras.initializers import glorot_normal\n",
        "from tensorflow.keras import callbacks\n",
        "from tensorflow.python.framework.ops import disable_eager_execution\n",
        "disable_eager_execution()"
      ],
      "metadata": {
        "id": "NbItvdNJdVLG"
      },
      "id": "NbItvdNJdVLG",
      "execution_count": 1,
      "outputs": []
    },
    {
      "cell_type": "code",
      "source": [
        "# refer to # # https://www.kaggle.com/shujian/transformer-with-lstm\n",
        "# define the multi-head transformer structure by hand\n",
        "class LayerNormalization(Layer):\n",
        "    def __init__(self, eps=1e-6, **kwargs):\n",
        "        self._eps = eps\n",
        "        super(LayerNormalization, self).__init__(**kwargs)\n",
        "    def build(self, input_shape):\n",
        "        self._gamma = self.add_weight(name='gamma', shape=input_shape[-1:],\n",
        "                                     initializer=Ones(), trainable=True)\n",
        "        self._beta = self.add_weight(name='beta', shape=input_shape[-1:],\n",
        "                                    initializer=Zeros(), trainable=True)\n",
        "        super(LayerNormalization, self).build(input_shape)\n",
        "    def call(self, x):\n",
        "        mean = K.mean(x, axis=-1, keepdims=True)\n",
        "        std = K.std(x, axis=-1, keepdims=True)\n",
        "        return self._gamma * (x - mean) / (std + self._eps) + self._beta\n",
        "    def compute_output_shape(self, input_shape):\n",
        "        return input_shape\n",
        "\n",
        "class ScaledDotProductAttention():\n",
        "    def __init__(self, d_model, attn_dropout=0.1):\n",
        "        self._temper = np.sqrt(d_model)\n",
        "        self._dropout = Dropout(attn_dropout)\n",
        "    def __call__(self, q, k, v, mask):\n",
        "        attn = Lambda(lambda x:K.batch_dot(x[0],x[1],axes=[2,2])/self._temper)([q, k])\n",
        "        if mask is not None:\n",
        "            mmask = Lambda(lambda x:(-1e+10)*(1-x))(mask)\n",
        "            attn = Add()([attn, mmask])\n",
        "        attn = Activation('softmax')(attn)\n",
        "        attn = self._dropout(attn)\n",
        "        output = Lambda(lambda x:K.batch_dot(x[0], x[1]))([attn, v])\n",
        "        return output, attn\n",
        "\n",
        "\n",
        "class MultiHeadAttention():\n",
        "    # mode 0 - big martixes, faster; mode 1 - more clear implementation\n",
        "    def __init__(self, num_head, dim_model, dim_key, dim_value, dropout, mode=0, use_norm=True):\n",
        "        self._head_mode = mode\n",
        "        self._num_head = num_head\n",
        "        self._dim_key = dim_key\n",
        "        self._dim_value = dim_value\n",
        "        self._dropout = dropout\n",
        "        if self._head_mode == 0:\n",
        "            self.qs_layer = Dense(num_head*dim_key, use_bias=False)\n",
        "            self.ks_layer = Dense(num_head*dim_key, use_bias=False)\n",
        "            self.vs_layer = Dense(num_head*dim_value, use_bias=False)\n",
        "        elif self._head_mode == 1:\n",
        "            self.qs_layers = []\n",
        "            self.ks_layers = []\n",
        "            self.vs_layers = []\n",
        "            for _ in range(num_head):\n",
        "                self.qs_layers.append(TimeDistributed(Dense(dim_key, use_bias=False)))\n",
        "                self.ks_layers.append(TimeDistributed(Dense(dim_key, use_bias=False)))\n",
        "                self.vs_layers.append(TimeDistributed(Dense(dim_value, use_bias=False)))\n",
        "        self.attention = ScaledDotProductAttention(dim_model)\n",
        "        self.layer_norm = LayerNormalization() if use_norm else None\n",
        "        self.w_o = TimeDistributed(Dense(dim_model))\n",
        "\n",
        "\n",
        "    def __call__(self, q, k, v, mask=None):\n",
        "        from keras.layers import Concatenate\n",
        "        if self._head_mode == 0:\n",
        "            qs = self.qs_layer(q) \n",
        "            ks = self.ks_layer(k)\n",
        "            vs = self.vs_layer(v)\n",
        "\n",
        "            def reshape1(x):\n",
        "                shape = tf.shape(x) \n",
        "                x = tf.reshape(x, [shape[0], shape[1], self._num_head, self._dim_key])\n",
        "                x = tf.transpose(x, [2, 0, 1, 3])  \n",
        "                x = tf.reshape(x, [-1, shape[1], self._dim_key])\n",
        "                return x\n",
        "            qs = Lambda(reshape1)(qs)\n",
        "            ks = Lambda(reshape1)(ks)\n",
        "            vs = Lambda(reshape1)(vs)\n",
        "\n",
        "            if mask is not None:\n",
        "                mask = Lambda(lambda x:K.repeat_elements(x, self._num_head, 0))(mask)\n",
        "            head, attn = self.attention(qs, ks, vs, mask=mask)  \n",
        "                \n",
        "            def reshape2(x):\n",
        "                shape = tf.shape(x)\n",
        "                x = tf.reshape(x, [self._num_head, -1, shape[1], shape[2]]) \n",
        "                x = tf.transpose(x, [1, 2, 0, 3])\n",
        "                x = tf.reshape(x, [-1, shape[1], self._num_head*self._dim_value])\n",
        "                return x\n",
        "            head = Lambda(reshape2)(head)\n",
        "        elif self._head_mode == 1:\n",
        "            heads = []; attns = []\n",
        "            for i in range(self._num_head):\n",
        "                qs = self.qs_layers[i](q)   \n",
        "                ks = self.ks_layers[i](k) \n",
        "                vs = self.vs_layers[i](v) \n",
        "                head, attn = self.attention(qs, ks, vs, mask)\n",
        "                heads.append(head); attns.append(attn)\n",
        "            head = Concatenate()(heads) if self._num_head > 1 else heads[0]\n",
        "            attn = Concatenate()(attns) if self._num_head > 1 else attns[0]\n",
        "\n",
        "        outputs = self.w_o(head)\n",
        "        outputs = Dropout(self._dropout)(outputs)\n",
        "        if not self.layer_norm: return outputs, attn\n",
        "        # outputs = Add()([outputs, q]) # sl: fix\n",
        "        return self.layer_norm(outputs), attn\n"
      ],
      "metadata": {
        "id": "X3xfvmgtdRff"
      },
      "id": "X3xfvmgtdRff",
      "execution_count": 2,
      "outputs": []
    },
    {
      "cell_type": "code",
      "source": [
        "from keras.layers import GlobalMaxPooling1D, Flatten, GlobalAveragePooling1D, Reshape, concatenate\n",
        "class Transformer:\n",
        "    def __init__(self, win_len, input_dim, hidden_dim=[128,64], attn_mode=0, head_mode=0):\n",
        "        self.name = 'Transformer'\n",
        "        self._win_len = win_len\n",
        "        self._input_dim = input_dim\n",
        "        self._hidden_dim = hidden_dim\n",
        "        # if attn_mode = 1, it will deploy the handmade multihead attention layer\n",
        "        # if attn_mode = 0, it will deploy the keras multihead attention layer\n",
        "        self._attn_mode = attn_mode\n",
        "        self._head_mode = head_mode\n",
        "    \n",
        "\n",
        "    # 需要 loss function\n",
        "    def _build_loss(self, sigma: tf.Tensor) -> Callable:\n",
        "\n",
        "        def gaussian_likelihood(y_true, y_pred):\n",
        "            return tf.reduce_mean(\n",
        "                tf.math.log(tf.math.sqrt(2 * math.pi))\n",
        "                + tf.math.log(sigma)\n",
        "                + tf.math.truediv(\n",
        "                    tf.math.square(y_true - y_pred), 2 * tf.math.square(sigma)\n",
        "                )\n",
        "            )\n",
        "            \n",
        "        return gaussian_likelihood\n",
        "\n",
        "    def build_and_compile(self) -> None:\n",
        "        inputs = Input(shape=(self._win_len, self._input_dim))\n",
        "        lstm_out1 = LSTM(self._hidden_dim[0], return_sequences=True)(inputs)\n",
        "        x = LSTM(self._hidden_dim[1], return_sequences=True)(lstm_out1) \n",
        "        if self._attn_mode == 1:\n",
        "          x, slf_attn = MultiHeadAttention(num_head=3, dim_model=300, \n",
        "                                           dim_key=self._hidden_dim[1], \n",
        "                                           dim_value=self._hidden_dim[1], \n",
        "                                           dropout=0.1, \n",
        "                                           mode=self._head_mode)(x, x, x)\n",
        "        elif self._attn_mode == 0:\n",
        "          x, slf_attn = layers.MultiHeadAttention(\n",
        "                num_heads=3,\n",
        "                key_dim=self._hidden_dim[1],\n",
        "                value_dim=self._hidden_dim[1],\n",
        "                dropout=0.1)(x, x, x,\n",
        "                return_attention_scores=True)\n",
        "        else:\n",
        "          print('Wrong attn_mode input. Attention layer will not be deployed.')\n",
        "        avg_pool = GlobalAveragePooling1D()(x)\n",
        "        max_pool = GlobalMaxPooling1D()(x)\n",
        "        conc = concatenate([avg_pool, max_pool])\n",
        "        dense = Dense(self._hidden_dim[1], activation=\"relu\")(conc)\n",
        "        dense_out = Dense(self._input_dim)(dense)      \n",
        "\n",
        "        model = Model(inputs=inputs, outputs=dense_out)\n",
        "\n",
        "        model.compile(\n",
        "            loss='mse',\n",
        "            metrics=['mse'],\n",
        "        )\n",
        "\n",
        "        self._model = model\n",
        "\n",
        "    def get_model(self) -> Model:\n",
        "        return self._model\n",
        "\n",
        "    def summary(self) -> None:\n",
        "        self._model.summary()\n",
        "\n",
        "    def fit(self, **kwargs) -> None:\n",
        "        self._model.fit(**kwargs)\n",
        "\n",
        "    def predict(self, X_test):\n",
        "        return self._model.predict(X_test)\n"
      ],
      "metadata": {
        "id": "Aoi6gVQRdgHn"
      },
      "id": "Aoi6gVQRdgHn",
      "execution_count": 3,
      "outputs": []
    },
    {
      "cell_type": "code",
      "source": [
        "import sys\n",
        "from google.colab import drive\n",
        "drive.mount('/content/drive')\n",
        "# to use the packages in google drive\n",
        "sys.path.append('/content/drive/My Drive/6000M_proj2/proj2')"
      ],
      "metadata": {
        "colab": {
          "base_uri": "https://localhost:8080/"
        },
        "id": "eojJlWOejZdp",
        "outputId": "0845da4d-8e8e-4253-e735-2ab0e1346263"
      },
      "id": "eojJlWOejZdp",
      "execution_count": 4,
      "outputs": [
        {
          "output_type": "stream",
          "name": "stdout",
          "text": [
            "Drive already mounted at /content/drive; to attempt to forcibly remount, call drive.mount(\"/content/drive\", force_remount=True).\n"
          ]
        }
      ]
    },
    {
      "cell_type": "code",
      "source": [
        "!pip install loguru"
      ],
      "metadata": {
        "colab": {
          "base_uri": "https://localhost:8080/"
        },
        "id": "BKHs1blXjoTY",
        "outputId": "2bd2af75-201f-4470-be24-f37e2e14aa45"
      },
      "id": "BKHs1blXjoTY",
      "execution_count": 5,
      "outputs": [
        {
          "output_type": "stream",
          "name": "stdout",
          "text": [
            "Looking in indexes: https://pypi.org/simple, https://us-python.pkg.dev/colab-wheels/public/simple/\n",
            "Requirement already satisfied: loguru in /usr/local/lib/python3.9/dist-packages (0.7.0)\n"
          ]
        }
      ]
    },
    {
      "cell_type": "code",
      "source": [
        "import yfinance as yf\n",
        "import pandas as pd\n",
        "import seaborn as sns\n",
        "import numpy as np\n",
        "import tensorflow as tf\n",
        "\n",
        "from tensorflow import keras\n",
        "from tensorflow.keras import layers\n",
        "from keras.layers import Dense, Conv1D, Flatten, MaxPooling1D, Dropout, LeakyReLU, LSTM, BatchNormalization\n",
        "from keras.models import Sequential\n",
        "from sklearn.model_selection import train_test_split\n",
        "from tqdm import tqdm\n",
        "from pathlib import Path\n",
        "from loguru import logger\n",
        "from concurrent.futures import ProcessPoolExecutor\n",
        "from scipy.stats import skew, kurtosis\n",
        "from os.path import join\n",
        "\n",
        "from config import *\n",
        "\n",
        "from src.universe import Universe\n",
        "from src.utils import time_series_generator\n",
        "from src.metrics import plot_mse"
      ],
      "metadata": {
        "id": "q9qMvQknjbXQ"
      },
      "id": "q9qMvQknjbXQ",
      "execution_count": 6,
      "outputs": []
    },
    {
      "cell_type": "code",
      "source": [
        "inception_date = '2022-03-31'\n",
        "ONE_YEAR_TRADE_DAYS = 252\n",
        "TWO_YEAR_TRADE_DAYS = ONE_YEAR_TRADE_DAYS * 2\n",
        "WIN_LEN = 30\n",
        "UNIVERSE_SIZE = 2500\n",
        "EPOCH = 20\n",
        "BATCH_SIZE = 16\n",
        "training_path = Path(join(data_path, 'train_set'))\n",
        "ret_train = pd.read_csv(join(training_path, '2022-03-31.csv'), index_col=0)\n",
        "X, y = time_series_generator(ret_train, WIN_LEN)\n",
        "train_index = ret_train.loc[:inception_date].iloc[-TWO_YEAR_TRADE_DAYS:].index\n",
        "X_train, X_val, y_train, y_val = train_test_split(X,y)\n",
        "X_train.shape, X_val.shape, y_train.shape, y_val.shape"
      ],
      "metadata": {
        "colab": {
          "base_uri": "https://localhost:8080/"
        },
        "id": "Ry6RizLdjNfy",
        "outputId": "5c7c37e7-a6d0-4b2f-9e97-cdb74b06f8b9"
      },
      "id": "Ry6RizLdjNfy",
      "execution_count": 7,
      "outputs": [
        {
          "output_type": "execute_result",
          "data": {
            "text/plain": [
              "((378, 30, 2500), (126, 30, 2500), (378, 2500), (126, 2500))"
            ]
          },
          "metadata": {},
          "execution_count": 7
        }
      ]
    },
    {
      "cell_type": "code",
      "source": [
        "transformer_api_matrix = Transformer(30, 2500, [128, 64], attn_mode=0, head_mode=0)\n",
        "transformer_hand_matrix = Transformer(30, 2500, [128, 64], attn_mode=1, head_mode=0)\n",
        "transformer_hand_timedis = Transformer(30, 2500, [128, 64], attn_mode=1, head_mode=1)"
      ],
      "metadata": {
        "id": "5NspXTuAjNSR"
      },
      "id": "5NspXTuAjNSR",
      "execution_count": 8,
      "outputs": []
    },
    {
      "cell_type": "code",
      "source": [
        "transformer_api_matrix.build_and_compile()\n",
        "transformer_hand_matrix.build_and_compile()\n",
        "transformer_hand_timedis.build_and_compile()"
      ],
      "metadata": {
        "id": "chaIYU5wj5vh"
      },
      "id": "chaIYU5wj5vh",
      "execution_count": 9,
      "outputs": []
    },
    {
      "cell_type": "code",
      "source": [
        "transformer_api_matrix.fit(x=X_train, y=y_train,\n",
        "                    epochs=EPOCH,\n",
        "                    validation_data=(X_val, y_val),)"
      ],
      "metadata": {
        "colab": {
          "base_uri": "https://localhost:8080/"
        },
        "id": "0FMJapn_nB58",
        "outputId": "b2d42bdc-3a32-4e5f-c313-5fb693a1658f"
      },
      "id": "0FMJapn_nB58",
      "execution_count": 10,
      "outputs": [
        {
          "output_type": "stream",
          "name": "stdout",
          "text": [
            "Train on 378 samples, validate on 126 samples\n",
            "Epoch 1/20\n",
            "378/378 [==============================] - ETA: 0s - loss: 0.0026 - mse: 0.0026"
          ]
        },
        {
          "output_type": "stream",
          "name": "stderr",
          "text": [
            "/usr/local/lib/python3.9/dist-packages/keras/engine/training_v1.py:2335: UserWarning: `Model.state_updates` will be removed in a future version. This property should not be used in TensorFlow 2.0, as `updates` are applied automatically.\n",
            "  updates = self.state_updates\n"
          ]
        },
        {
          "output_type": "stream",
          "name": "stdout",
          "text": [
            "\b\b\b\b\b\b\b\b\b\b\b\b\b\b\b\b\b\b\b\b\b\b\b\b\b\b\b\b\b\b\b\b\b\b\b\b\b\b\b\b\b\b\b\b\b\b\b\b\b\b\b\b\b\b\b\b\b\b\b\b\b\b\b\b\b\b\b\b\b\b\b\b\b\b\b\b\b\b\b\r378/378 [==============================] - 8s 21ms/sample - loss: 0.0026 - mse: 0.0026 - val_loss: 0.0027 - val_mse: 0.0027\n",
            "Epoch 2/20\n",
            "378/378 [==============================] - 6s 16ms/sample - loss: 0.0026 - mse: 0.0026 - val_loss: 0.0027 - val_mse: 0.0027\n",
            "Epoch 3/20\n",
            "378/378 [==============================] - 8s 20ms/sample - loss: 0.0026 - mse: 0.0026 - val_loss: 0.0027 - val_mse: 0.0027\n",
            "Epoch 4/20\n",
            "378/378 [==============================] - 6s 16ms/sample - loss: 0.0026 - mse: 0.0026 - val_loss: 0.0027 - val_mse: 0.0027\n",
            "Epoch 5/20\n",
            "378/378 [==============================] - 8s 21ms/sample - loss: 0.0026 - mse: 0.0026 - val_loss: 0.0027 - val_mse: 0.0027\n",
            "Epoch 6/20\n",
            "378/378 [==============================] - 6s 16ms/sample - loss: 0.0026 - mse: 0.0026 - val_loss: 0.0027 - val_mse: 0.0027\n",
            "Epoch 7/20\n",
            "378/378 [==============================] - 6s 16ms/sample - loss: 0.0026 - mse: 0.0026 - val_loss: 0.0027 - val_mse: 0.0027\n",
            "Epoch 8/20\n",
            "378/378 [==============================] - 3s 9ms/sample - loss: 0.0026 - mse: 0.0026 - val_loss: 0.0027 - val_mse: 0.0027\n",
            "Epoch 9/20\n",
            "378/378 [==============================] - 3s 8ms/sample - loss: 0.0026 - mse: 0.0026 - val_loss: 0.0027 - val_mse: 0.0027\n",
            "Epoch 10/20\n",
            "378/378 [==============================] - 3s 8ms/sample - loss: 0.0026 - mse: 0.0026 - val_loss: 0.0027 - val_mse: 0.0027\n",
            "Epoch 11/20\n",
            "378/378 [==============================] - 4s 11ms/sample - loss: 0.0026 - mse: 0.0026 - val_loss: 0.0027 - val_mse: 0.0027\n",
            "Epoch 12/20\n",
            "378/378 [==============================] - 4s 10ms/sample - loss: 0.0026 - mse: 0.0026 - val_loss: 0.0027 - val_mse: 0.0027\n",
            "Epoch 13/20\n",
            "378/378 [==============================] - 3s 8ms/sample - loss: 0.0026 - mse: 0.0026 - val_loss: 0.0027 - val_mse: 0.0027\n",
            "Epoch 14/20\n",
            "378/378 [==============================] - 3s 8ms/sample - loss: 0.0026 - mse: 0.0026 - val_loss: 0.0027 - val_mse: 0.0027\n",
            "Epoch 15/20\n",
            "378/378 [==============================] - 4s 11ms/sample - loss: 0.0026 - mse: 0.0026 - val_loss: 0.0027 - val_mse: 0.0027\n",
            "Epoch 16/20\n",
            "378/378 [==============================] - 4s 11ms/sample - loss: 0.0026 - mse: 0.0026 - val_loss: 0.0027 - val_mse: 0.0027\n",
            "Epoch 17/20\n",
            "378/378 [==============================] - 3s 8ms/sample - loss: 0.0026 - mse: 0.0026 - val_loss: 0.0027 - val_mse: 0.0027\n",
            "Epoch 18/20\n",
            "378/378 [==============================] - 3s 8ms/sample - loss: 0.0026 - mse: 0.0026 - val_loss: 0.0027 - val_mse: 0.0027\n",
            "Epoch 19/20\n",
            "378/378 [==============================] - 4s 10ms/sample - loss: 0.0026 - mse: 0.0026 - val_loss: 0.0027 - val_mse: 0.0027\n",
            "Epoch 20/20\n",
            "378/378 [==============================] - 4s 11ms/sample - loss: 0.0026 - mse: 0.0026 - val_loss: 0.0027 - val_mse: 0.0027\n"
          ]
        }
      ]
    },
    {
      "cell_type": "code",
      "source": [
        "transformer_hand_matrix.fit(x=X_train, y=y_train,\n",
        "                    epochs=EPOCH,\n",
        "                    validation_data=(X_val, y_val),)"
      ],
      "metadata": {
        "colab": {
          "base_uri": "https://localhost:8080/"
        },
        "id": "DtofoGGZ2AmZ",
        "outputId": "56784e03-a807-41aa-85f1-8fa6dbb9b5d3"
      },
      "id": "DtofoGGZ2AmZ",
      "execution_count": 11,
      "outputs": [
        {
          "output_type": "stream",
          "name": "stdout",
          "text": [
            "Train on 378 samples, validate on 126 samples\n",
            "Epoch 1/20\n",
            "378/378 [==============================] - 5s 12ms/sample - loss: 0.0063 - mse: 0.0063 - val_loss: 0.0041 - val_mse: 0.0041\n",
            "Epoch 2/20\n",
            "378/378 [==============================] - 4s 10ms/sample - loss: 0.0026 - mse: 0.0026 - val_loss: 0.0040 - val_mse: 0.0040\n",
            "Epoch 3/20\n",
            "378/378 [==============================] - 4s 12ms/sample - loss: 0.0026 - mse: 0.0026 - val_loss: 0.0039 - val_mse: 0.0039\n",
            "Epoch 4/20\n",
            "378/378 [==============================] - 3s 9ms/sample - loss: 0.0026 - mse: 0.0026 - val_loss: 0.0038 - val_mse: 0.0038\n",
            "Epoch 5/20\n",
            "378/378 [==============================] - 3s 8ms/sample - loss: 0.0026 - mse: 0.0026 - val_loss: 0.0038 - val_mse: 0.0038\n",
            "Epoch 6/20\n",
            "378/378 [==============================] - 4s 11ms/sample - loss: 0.0026 - mse: 0.0026 - val_loss: 0.0035 - val_mse: 0.0035\n",
            "Epoch 7/20\n",
            "378/378 [==============================] - 4s 11ms/sample - loss: 0.0026 - mse: 0.0026 - val_loss: 0.0035 - val_mse: 0.0035\n",
            "Epoch 8/20\n",
            "378/378 [==============================] - 3s 9ms/sample - loss: 0.0026 - mse: 0.0026 - val_loss: 0.0035 - val_mse: 0.0035\n",
            "Epoch 9/20\n",
            "378/378 [==============================] - 3s 8ms/sample - loss: 0.0026 - mse: 0.0026 - val_loss: 0.0031 - val_mse: 0.0031\n",
            "Epoch 10/20\n",
            "378/378 [==============================] - 6s 15ms/sample - loss: 0.0026 - mse: 0.0026 - val_loss: 0.0045 - val_mse: 0.0045\n",
            "Epoch 11/20\n",
            "378/378 [==============================] - 5s 14ms/sample - loss: 0.0026 - mse: 0.0026 - val_loss: 0.0027 - val_mse: 0.0027\n",
            "Epoch 12/20\n",
            "378/378 [==============================] - 3s 9ms/sample - loss: 0.0026 - mse: 0.0026 - val_loss: 0.0028 - val_mse: 0.0028\n",
            "Epoch 13/20\n",
            "378/378 [==============================] - 4s 10ms/sample - loss: 0.0026 - mse: 0.0026 - val_loss: 0.0031 - val_mse: 0.0031\n",
            "Epoch 14/20\n",
            "378/378 [==============================] - 5s 12ms/sample - loss: 0.0026 - mse: 0.0026 - val_loss: 0.0028 - val_mse: 0.0028\n",
            "Epoch 15/20\n",
            "378/378 [==============================] - 3s 9ms/sample - loss: 0.0026 - mse: 0.0026 - val_loss: 0.0028 - val_mse: 0.0028\n",
            "Epoch 16/20\n",
            "378/378 [==============================] - 3s 9ms/sample - loss: 0.0026 - mse: 0.0026 - val_loss: 0.0028 - val_mse: 0.0028\n",
            "Epoch 17/20\n",
            "378/378 [==============================] - 4s 11ms/sample - loss: 0.0026 - mse: 0.0026 - val_loss: 0.0028 - val_mse: 0.0028\n",
            "Epoch 18/20\n",
            "378/378 [==============================] - 4s 12ms/sample - loss: 0.0026 - mse: 0.0026 - val_loss: 0.0028 - val_mse: 0.0028\n",
            "Epoch 19/20\n",
            "378/378 [==============================] - 3s 8ms/sample - loss: 0.0026 - mse: 0.0026 - val_loss: 0.0028 - val_mse: 0.0028\n",
            "Epoch 20/20\n",
            "378/378 [==============================] - 3s 8ms/sample - loss: 0.0026 - mse: 0.0026 - val_loss: 0.0028 - val_mse: 0.0028\n"
          ]
        }
      ]
    },
    {
      "cell_type": "code",
      "source": [
        "transformer_hand_timedis.fit(x=X_train, y=y_train,\n",
        "                    epochs=EPOCH,\n",
        "                    validation_data=(X_val, y_val),)"
      ],
      "metadata": {
        "colab": {
          "base_uri": "https://localhost:8080/"
        },
        "id": "gMvusKz22ElD",
        "outputId": "c0d987c2-3b77-4428-c933-964de65ce2ae"
      },
      "id": "gMvusKz22ElD",
      "execution_count": 12,
      "outputs": [
        {
          "output_type": "stream",
          "name": "stdout",
          "text": [
            "Train on 378 samples, validate on 126 samples\n",
            "Epoch 1/20\n",
            "378/378 [==============================] - 7s 17ms/sample - loss: 0.0069 - mse: 0.0069 - val_loss: 0.0042 - val_mse: 0.0042\n",
            "Epoch 2/20\n",
            "378/378 [==============================] - 3s 9ms/sample - loss: 0.0026 - mse: 0.0026 - val_loss: 0.0042 - val_mse: 0.0042\n",
            "Epoch 3/20\n",
            "378/378 [==============================] - 3s 9ms/sample - loss: 0.0026 - mse: 0.0026 - val_loss: 0.0041 - val_mse: 0.0041\n",
            "Epoch 4/20\n",
            "378/378 [==============================] - 5s 13ms/sample - loss: 0.0026 - mse: 0.0026 - val_loss: 0.0041 - val_mse: 0.0041\n",
            "Epoch 5/20\n",
            "378/378 [==============================] - 4s 10ms/sample - loss: 0.0026 - mse: 0.0026 - val_loss: 0.0041 - val_mse: 0.0041\n",
            "Epoch 6/20\n",
            "378/378 [==============================] - 3s 9ms/sample - loss: 0.0026 - mse: 0.0026 - val_loss: 0.0040 - val_mse: 0.0040\n",
            "Epoch 7/20\n",
            "378/378 [==============================] - 3s 9ms/sample - loss: 0.0026 - mse: 0.0026 - val_loss: 0.0035 - val_mse: 0.0035\n",
            "Epoch 8/20\n",
            "378/378 [==============================] - 5s 14ms/sample - loss: 0.0026 - mse: 0.0026 - val_loss: 0.0033 - val_mse: 0.0033\n",
            "Epoch 9/20\n",
            "378/378 [==============================] - 5s 12ms/sample - loss: 0.0026 - mse: 0.0026 - val_loss: 0.0032 - val_mse: 0.0032\n",
            "Epoch 10/20\n",
            "378/378 [==============================] - 4s 12ms/sample - loss: 0.0026 - mse: 0.0026 - val_loss: 0.0032 - val_mse: 0.0032\n",
            "Epoch 11/20\n",
            "378/378 [==============================] - 6s 15ms/sample - loss: 0.0026 - mse: 0.0026 - val_loss: 0.0032 - val_mse: 0.0032\n",
            "Epoch 12/20\n",
            "378/378 [==============================] - 4s 10ms/sample - loss: 0.0026 - mse: 0.0026 - val_loss: 0.0032 - val_mse: 0.0032\n",
            "Epoch 13/20\n",
            "378/378 [==============================] - 3s 9ms/sample - loss: 0.0026 - mse: 0.0026 - val_loss: 0.0032 - val_mse: 0.0032\n",
            "Epoch 14/20\n",
            "378/378 [==============================] - 3s 9ms/sample - loss: 0.0026 - mse: 0.0026 - val_loss: 0.0032 - val_mse: 0.0032\n",
            "Epoch 15/20\n",
            "378/378 [==============================] - 5s 14ms/sample - loss: 0.0026 - mse: 0.0026 - val_loss: 0.0032 - val_mse: 0.0032\n",
            "Epoch 16/20\n",
            "378/378 [==============================] - 3s 9ms/sample - loss: 0.0026 - mse: 0.0026 - val_loss: 0.0032 - val_mse: 0.0032\n",
            "Epoch 17/20\n",
            "378/378 [==============================] - 3s 9ms/sample - loss: 0.0026 - mse: 0.0026 - val_loss: 0.0031 - val_mse: 0.0031\n",
            "Epoch 18/20\n",
            "378/378 [==============================] - 3s 9ms/sample - loss: 0.0026 - mse: 0.0026 - val_loss: 0.0031 - val_mse: 0.0031\n",
            "Epoch 19/20\n",
            "378/378 [==============================] - 5s 14ms/sample - loss: 0.0026 - mse: 0.0026 - val_loss: 0.0031 - val_mse: 0.0031\n",
            "Epoch 20/20\n",
            "378/378 [==============================] - 3s 9ms/sample - loss: 0.0026 - mse: 0.0026 - val_loss: 0.0030 - val_mse: 0.0030\n"
          ]
        }
      ]
    },
    {
      "cell_type": "code",
      "source": [
        "training_path = Path(join(data_path, 'train_set'))\n",
        "liquid_ticker_ret = pd.read_csv(join(training_path, 'liquid_ticker_ret.csv'), index_col=0)\n",
        "ret_train = liquid_ticker_ret.loc[:inception_date].iloc[-TWO_YEAR_TRADE_DAYS-WIN_LEN:]\n",
        "train_index = ret_train.loc[:inception_date].iloc[-TWO_YEAR_TRADE_DAYS:].index\n",
        "train_flat = ret_train.values.flatten()\n",
        "train_flat = train_flat[train_flat != 0]\n",
        "m = train_flat.mean()\n",
        "s = train_flat.std()\n",
        "train_flat = train_flat.clip(m-2*s, m+2*s)\n",
        "sns.kdeplot(train_flat)\n",
        "## get ticker returns\n",
        "test_start_date = liquid_ticker_ret.loc[:inception_date].iloc[-WIN_LEN:].index[0]\n",
        "ret_test = liquid_ticker_ret.loc[test_start_date:].iloc[:ONE_YEAR_TRADE_DAYS + WIN_LEN+1]\n",
        "ret_test = ret_test.clip(m-2*s, m+2*s)\n",
        "X_test, y_test = time_series_generator(ret_test, WIN_LEN)"
      ],
      "metadata": {
        "colab": {
          "base_uri": "https://localhost:8080/",
          "height": 430
        },
        "id": "iAUmzgx6-Zfk",
        "outputId": "e5c10567-9076-4c57-af73-a0a6b9c250e8"
      },
      "id": "iAUmzgx6-Zfk",
      "execution_count": 13,
      "outputs": [
        {
          "output_type": "display_data",
          "data": {
            "text/plain": [
              "<Figure size 640x480 with 1 Axes>"
            ],
            "image/png": "[encoded data removed]"
          },
          "metadata": {}
        }
      ]
    },
    {
      "cell_type": "code",
      "source": [
        "y_pred_test_api_matrix = transformer_api_matrix.predict(X_test)\n",
        "y_pred_test_hand_matrix = transformer_hand_matrix.predict(X_test)\n",
        "y_pred_test_hand_timedis = transformer_hand_timedis.predict(X_test)\n"
      ],
      "metadata": {
        "id": "hxOB5r6n-fUN",
        "colab": {
          "base_uri": "https://localhost:8080/"
        },
        "outputId": "fa75f711-fe4f-4b7c-8d90-370fadbff92b"
      },
      "id": "hxOB5r6n-fUN",
      "execution_count": 14,
      "outputs": [
        {
          "output_type": "stream",
          "name": "stderr",
          "text": [
            "/usr/local/lib/python3.9/dist-packages/keras/engine/training_v1.py:2359: UserWarning: `Model.state_updates` will be removed in a future version. This property should not be used in TensorFlow 2.0, as `updates` are applied automatically.\n",
            "  updates=self.state_updates,\n"
          ]
        }
      ]
    },
    {
      "cell_type": "code",
      "source": [
        "from src.metrics import plot_mse, generate_report\n",
        "generate_report(\n",
        "    [y_pred_test_api_matrix, y_pred_test_hand_matrix, y_pred_test_hand_timedis], y_test, \n",
        "    ['transformer_api', 'handmade_attention_matrix_form', 'handmade_attention_time_distributed_form']\n",
        ")"
      ],
      "metadata": {
        "colab": {
          "base_uri": "https://localhost:8080/",
          "height": 143
        },
        "id": "6wmfUx6m3GSR",
        "outputId": "63d2efc3-dcc8-496c-82c4-51490db2a9b8"
      },
      "id": "6wmfUx6m3GSR",
      "execution_count": 15,
      "outputs": [
        {
          "output_type": "execute_result",
          "data": {
            "text/plain": [
              "                                               mse      corr  deviation\n",
              "transformer_api                           0.002658  0.043304   1.065924\n",
              "handmade_attention_matrix_form            0.002770  0.000387   1.146424\n",
              "handmade_attention_time_distributed_form  0.003004  0.000743   1.213847"
            ],
            "text/html": [
              "\n",
              "  <div id=\"df-68366cc2-507c-4aa7-a8f8-1e2b17471791\">\n",
              "    <div class=\"colab-df-container\">\n",
              "      <div>\n",
              "<style scoped>\n",
              "    .dataframe tbody tr th:only-of-type {\n",
              "        vertical-align: middle;\n",
              "    }\n",
              "\n",
              "    .dataframe tbody tr th {\n",
              "        vertical-align: top;\n",
              "    }\n",
              "\n",
              "    .dataframe thead th {\n",
              "        text-align: right;\n",
              "    }\n",
              "</style>\n",
              "<table border=\"1\" class=\"dataframe\">\n",
              "  <thead>\n",
              "    <tr style=\"text-align: right;\">\n",
              "      <th></th>\n",
              "      <th>mse</th>\n",
              "      <th>corr</th>\n",
              "      <th>deviation</th>\n",
              "    </tr>\n",
              "  </thead>\n",
              "  <tbody>\n",
              "    <tr>\n",
              "      <th>transformer_api</th>\n",
              "      <td>0.002658</td>\n",
              "      <td>0.043304</td>\n",
              "      <td>1.065924</td>\n",
              "    </tr>\n",
              "    <tr>\n",
              "      <th>handmade_attention_matrix_form</th>\n",
              "      <td>0.002770</td>\n",
              "      <td>0.000387</td>\n",
              "      <td>1.146424</td>\n",
              "    </tr>\n",
              "    <tr>\n",
              "      <th>handmade_attention_time_distributed_form</th>\n",
              "      <td>0.003004</td>\n",
              "      <td>0.000743</td>\n",
              "      <td>1.213847</td>\n",
              "    </tr>\n",
              "  </tbody>\n",
              "</table>\n",
              "</div>\n",
              "      <button class=\"colab-df-convert\" onclick=\"convertToInteractive('df-68366cc2-507c-4aa7-a8f8-1e2b17471791')\"\n",
              "              title=\"Convert this dataframe to an interactive table.\"\n",
              "              style=\"display:none;\">\n",
              "        \n",
              "  <svg xmlns=\"http://www.w3.org/2000/svg\" height=\"24px\"viewBox=\"0 0 24 24\"\n",
              "       width=\"24px\">\n",
              "    <path d=\"M0 0h24v24H0V0z\" fill=\"none\"/>\n",
              "    <path d=\"M18.56 5.44l.94 2.06.94-2.06 2.06-.94-2.06-.94-.94-2.06-.94 2.06-2.06.94zm-11 1L8.5 8.5l.94-2.06 2.06-.94-2.06-.94L8.5 2.5l-.94 2.06-2.06.94zm10 10l.94 2.06.94-2.06 2.06-.94-2.06-.94-.94-2.06-.94 2.06-2.06.94z\"/><path d=\"M17.41 7.96l-1.37-1.37c-.4-.4-.92-.59-1.43-.59-.52 0-1.04.2-1.43.59L10.3 9.45l-7.72 7.72c-.78.78-.78 2.05 0 2.83L4 21.41c.39.39.9.59 1.41.59.51 0 1.02-.2 1.41-.59l7.78-7.78 2.81-2.81c.8-.78.8-2.07 0-2.86zM5.41 20L4 18.59l7.72-7.72 1.47 1.35L5.41 20z\"/>\n",
              "  </svg>\n",
              "      </button>\n",
              "      \n",
              "  <style>\n",
              "    .colab-df-container {\n",
              "      display:flex;\n",
              "      flex-wrap:wrap;\n",
              "      gap: 12px;\n",
              "    }\n",
              "\n",
              "    .colab-df-convert {\n",
              "      background-color: #E8F0FE;\n",
              "      border: none;\n",
              "      border-radius: 50%;\n",
              "      cursor: pointer;\n",
              "      display: none;\n",
              "      fill: #1967D2;\n",
              "      height: 32px;\n",
              "      padding: 0 0 0 0;\n",
              "      width: 32px;\n",
              "    }\n",
              "\n",
              "    .colab-df-convert:hover {\n",
              "      background-color: #E2EBFA;\n",
              "      box-shadow: 0px 1px 2px rgba(60, 64, 67, 0.3), 0px 1px 3px 1px rgba(60, 64, 67, 0.15);\n",
              "      fill: #174EA6;\n",
              "    }\n",
              "\n",
              "    [theme=dark] .colab-df-convert {\n",
              "      background-color: #3B4455;\n",
              "      fill: #D2E3FC;\n",
              "    }\n",
              "\n",
              "    [theme=dark] .colab-df-convert:hover {\n",
              "      background-color: #434B5C;\n",
              "      box-shadow: 0px 1px 3px 1px rgba(0, 0, 0, 0.15);\n",
              "      filter: drop-shadow(0px 1px 2px rgba(0, 0, 0, 0.3));\n",
              "      fill: #FFFFFF;\n",
              "    }\n",
              "  </style>\n",
              "\n",
              "      <script>\n",
              "        const buttonEl =\n",
              "          document.querySelector('#df-68366cc2-507c-4aa7-a8f8-1e2b17471791 button.colab-df-convert');\n",
              "        buttonEl.style.display =\n",
              "          google.colab.kernel.accessAllowed ? 'block' : 'none';\n",
              "\n",
              "        async function convertToInteractive(key) {\n",
              "          const element = document.querySelector('#df-68366cc2-507c-4aa7-a8f8-1e2b17471791');\n",
              "          const dataTable =\n",
              "            await google.colab.kernel.invokeFunction('convertToInteractive',\n",
              "                                                     [key], {});\n",
              "          if (!dataTable) return;\n",
              "\n",
              "          const docLinkHtml = 'Like what you see? Visit the ' +\n",
              "            '<a target=\"_blank\" href=https://colab.research.google.com/notebooks/data_table.ipynb>data table notebook</a>'\n",
              "            + ' to learn more about interactive tables.';\n",
              "          element.innerHTML = '';\n",
              "          dataTable['output_type'] = 'display_data';\n",
              "          await google.colab.output.renderOutput(dataTable, element);\n",
              "          const docLink = document.createElement('div');\n",
              "          docLink.innerHTML = docLinkHtml;\n",
              "          element.appendChild(docLink);\n",
              "        }\n",
              "      </script>\n",
              "    </div>\n",
              "  </div>\n",
              "  "
            ]
          },
          "metadata": {},
          "execution_count": 15
        }
      ]
    }
  ],
  "metadata": {
    "colab": {
      "provenance": []
    },
    "kernelspec": {
      "display_name": "Python 3 (ipykernel)",
      "language": "python",
      "name": "python3"
    },
    "language_info": {
      "codemirror_mode": {
        "name": "ipython",
        "version": 3
      },
      "file_extension": ".py",
      "mimetype": "text/x-python",
      "name": "python",
      "nbconvert_exporter": "python",
      "pygments_lexer": "ipython3",
      "version": "3.9.13"
    }
  },
  "nbformat": 4,
  "nbformat_minor": 5
}