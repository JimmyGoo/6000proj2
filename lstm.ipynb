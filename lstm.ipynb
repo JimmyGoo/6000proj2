{
 "cells": [
  {
   "cell_type": "code",
   "execution_count": 1,
   "id": "87de51a6-eb5e-4230-951a-23cb8e1f78b7",
   "metadata": {},
   "outputs": [
    {
     "name": "stderr",
     "output_type": "stream",
     "text": [
      "2023-04-18 21:18:11.492501: I tensorflow/core/platform/cpu_feature_guard.cc:193] This TensorFlow binary is optimized with oneAPI Deep Neural Network Library (oneDNN) to use the following CPU instructions in performance-critical operations:  SSE4.1 SSE4.2\n",
      "To enable them in other operations, rebuild TensorFlow with the appropriate compiler flags.\n"
     ]
    }
   ],
   "source": [
    "import yfinance as yf\n",
    "import pandas as pd\n",
    "import seaborn as sns\n",
    "import numpy as np\n",
    "import tensorflow as tf\n",
    "\n",
    "from tensorflow import keras\n",
    "from tensorflow.keras import layers\n",
    "from sklearn.model_selection import train_test_split\n",
    "from tqdm import tqdm\n",
    "from pathlib import Path\n",
    "from loguru import logger\n",
    "from concurrent.futures import ProcessPoolExecutor"
   ]
  },
  {
   "cell_type": "code",
   "execution_count": 2,
   "id": "1ecbb775-aa7b-4027-ab64-4b1dcdb157e3",
   "metadata": {},
   "outputs": [],
   "source": [
    "inception_date = '2022-03-31'\n",
    "ONE_YEAR_TRADE_DAYS = 252\n",
    "TWO_YEAR_TRADE_DAYS = ONE_YEAR_TRADE_DAYS * 2\n",
    "WIN_LEN = 10\n",
    "UNIVERSE_SIZE = 2500\n",
    "EPOCH = 20\n",
    "BATCH_SIZE = 16"
   ]
  },
  {
   "cell_type": "code",
   "execution_count": 3,
   "id": "41004abe-5044-4c6a-b51c-927b87a33574",
   "metadata": {},
   "outputs": [
    {
     "name": "stderr",
     "output_type": "stream",
     "text": [
      "/var/folders/71/324hp9d161v598d179126g880000gn/T/ipykernel_58465/2088881067.py:1: FutureWarning: The squeeze argument has been deprecated and will be removed in a future version. Append .squeeze(\"columns\") to the call to squeeze.\n",
      "\n",
      "\n",
      "  universe = pd.read_csv(f'./data/universe/{inception_date}.csv', squeeze=True)\n"
     ]
    },
    {
     "data": {
      "text/plain": [
       "0    IMPP\n",
       "1    SXTC\n",
       "2    ECAT\n",
       "3    MULN\n",
       "4    HYMC\n",
       "Name: ticker, dtype: object"
      ]
     },
     "execution_count": 3,
     "metadata": {},
     "output_type": "execute_result"
    }
   ],
   "source": [
    "universe = pd.read_csv(f'./data/universe/{inception_date}.csv', squeeze=True)\n",
    "universe.head()"
   ]
  },
  {
   "cell_type": "code",
   "execution_count": 53,
   "id": "b1c8ff9a-5495-4d51-a57f-46a706b76185",
   "metadata": {},
   "outputs": [
    {
     "name": "stderr",
     "output_type": "stream",
     "text": [
      "100%|██████████| 2500/2500 [00:06<00:00, 371.94it/s]\n"
     ]
    }
   ],
   "source": [
    "## get ticker returns\n",
    "rets = []\n",
    "for aid in tqdm(universe):\n",
    "    ret = pd.read_csv(f'./data/mkt/{aid}.csv', index_col=0)\n",
    "    ret = ret['Close'].pct_change().dropna()\n",
    "    ret = ret.rename(aid)\n",
    "    rets.append(ret)\n",
    "ret_all = pd.concat(rets, axis=1)\n",
    "ret_all = ret_all.sort_index()\n",
    "ret_all = ret_all.fillna(0)"
   ]
  },
  {
   "cell_type": "code",
   "execution_count": 54,
   "id": "b7927e08",
   "metadata": {},
   "outputs": [
    {
     "data": {
      "text/html": [
       "<div>\n",
       "<style scoped>\n",
       "    .dataframe tbody tr th:only-of-type {\n",
       "        vertical-align: middle;\n",
       "    }\n",
       "\n",
       "    .dataframe tbody tr th {\n",
       "        vertical-align: top;\n",
       "    }\n",
       "\n",
       "    .dataframe thead th {\n",
       "        text-align: right;\n",
       "    }\n",
       "</style>\n",
       "<table border=\"1\" class=\"dataframe\">\n",
       "  <thead>\n",
       "    <tr style=\"text-align: right;\">\n",
       "      <th></th>\n",
       "      <th>IMPP</th>\n",
       "      <th>SXTC</th>\n",
       "      <th>ECAT</th>\n",
       "      <th>MULN</th>\n",
       "      <th>HYMC</th>\n",
       "      <th>CELZ</th>\n",
       "      <th>METX</th>\n",
       "      <th>ENSV</th>\n",
       "      <th>KAVL</th>\n",
       "      <th>BBIG</th>\n",
       "      <th>...</th>\n",
       "      <th>BRP</th>\n",
       "      <th>LIBY</th>\n",
       "      <th>VOR</th>\n",
       "      <th>BWMX</th>\n",
       "      <th>BIMI</th>\n",
       "      <th>NPCE</th>\n",
       "      <th>LIVE</th>\n",
       "      <th>DHCA</th>\n",
       "      <th>MARK</th>\n",
       "      <th>RCUS</th>\n",
       "    </tr>\n",
       "  </thead>\n",
       "  <tbody>\n",
       "    <tr>\n",
       "      <th>2018-06-04</th>\n",
       "      <td>0.000000</td>\n",
       "      <td>0.000000</td>\n",
       "      <td>0.000000</td>\n",
       "      <td>-0.028369</td>\n",
       "      <td>0.000000</td>\n",
       "      <td>0.084848</td>\n",
       "      <td>0.000000</td>\n",
       "      <td>-0.081481</td>\n",
       "      <td>0.000000</td>\n",
       "      <td>-0.020000</td>\n",
       "      <td>...</td>\n",
       "      <td>0.000000</td>\n",
       "      <td>0.000000</td>\n",
       "      <td>0.000000</td>\n",
       "      <td>0.000000</td>\n",
       "      <td>0.046875</td>\n",
       "      <td>0.000000</td>\n",
       "      <td>-0.003249</td>\n",
       "      <td>0.000000</td>\n",
       "      <td>-0.015385</td>\n",
       "      <td>0.041264</td>\n",
       "    </tr>\n",
       "    <tr>\n",
       "      <th>2018-06-05</th>\n",
       "      <td>0.000000</td>\n",
       "      <td>0.000000</td>\n",
       "      <td>0.000000</td>\n",
       "      <td>-0.013139</td>\n",
       "      <td>0.000000</td>\n",
       "      <td>-0.134078</td>\n",
       "      <td>0.000000</td>\n",
       "      <td>-0.032258</td>\n",
       "      <td>0.000000</td>\n",
       "      <td>-0.014084</td>\n",
       "      <td>...</td>\n",
       "      <td>0.000000</td>\n",
       "      <td>0.000000</td>\n",
       "      <td>0.000000</td>\n",
       "      <td>0.000000</td>\n",
       "      <td>0.171642</td>\n",
       "      <td>0.000000</td>\n",
       "      <td>0.009780</td>\n",
       "      <td>0.000000</td>\n",
       "      <td>0.149554</td>\n",
       "      <td>-0.018576</td>\n",
       "    </tr>\n",
       "    <tr>\n",
       "      <th>2018-06-06</th>\n",
       "      <td>0.000000</td>\n",
       "      <td>0.000000</td>\n",
       "      <td>0.000000</td>\n",
       "      <td>-0.039941</td>\n",
       "      <td>-0.001041</td>\n",
       "      <td>-0.038710</td>\n",
       "      <td>0.000000</td>\n",
       "      <td>0.016667</td>\n",
       "      <td>0.000000</td>\n",
       "      <td>-0.010204</td>\n",
       "      <td>...</td>\n",
       "      <td>0.000000</td>\n",
       "      <td>0.000000</td>\n",
       "      <td>0.000000</td>\n",
       "      <td>0.000000</td>\n",
       "      <td>0.082803</td>\n",
       "      <td>0.000000</td>\n",
       "      <td>0.017756</td>\n",
       "      <td>0.000000</td>\n",
       "      <td>-0.048544</td>\n",
       "      <td>0.006940</td>\n",
       "    </tr>\n",
       "    <tr>\n",
       "      <th>2018-06-07</th>\n",
       "      <td>0.000000</td>\n",
       "      <td>0.000000</td>\n",
       "      <td>0.000000</td>\n",
       "      <td>-0.001541</td>\n",
       "      <td>0.003125</td>\n",
       "      <td>0.033557</td>\n",
       "      <td>0.000000</td>\n",
       "      <td>-0.008197</td>\n",
       "      <td>0.000000</td>\n",
       "      <td>-0.005891</td>\n",
       "      <td>...</td>\n",
       "      <td>0.000000</td>\n",
       "      <td>0.000000</td>\n",
       "      <td>0.000000</td>\n",
       "      <td>0.000000</td>\n",
       "      <td>0.082353</td>\n",
       "      <td>0.000000</td>\n",
       "      <td>-0.005551</td>\n",
       "      <td>0.000000</td>\n",
       "      <td>-0.020408</td>\n",
       "      <td>0.020050</td>\n",
       "    </tr>\n",
       "    <tr>\n",
       "      <th>2018-06-08</th>\n",
       "      <td>0.000000</td>\n",
       "      <td>0.000000</td>\n",
       "      <td>0.000000</td>\n",
       "      <td>0.141975</td>\n",
       "      <td>0.000000</td>\n",
       "      <td>0.103896</td>\n",
       "      <td>0.000000</td>\n",
       "      <td>-0.033058</td>\n",
       "      <td>0.000000</td>\n",
       "      <td>0.009630</td>\n",
       "      <td>...</td>\n",
       "      <td>0.000000</td>\n",
       "      <td>0.000000</td>\n",
       "      <td>0.000000</td>\n",
       "      <td>0.000000</td>\n",
       "      <td>0.084239</td>\n",
       "      <td>0.000000</td>\n",
       "      <td>0.004785</td>\n",
       "      <td>0.000000</td>\n",
       "      <td>0.039583</td>\n",
       "      <td>0.041155</td>\n",
       "    </tr>\n",
       "    <tr>\n",
       "      <th>...</th>\n",
       "      <td>...</td>\n",
       "      <td>...</td>\n",
       "      <td>...</td>\n",
       "      <td>...</td>\n",
       "      <td>...</td>\n",
       "      <td>...</td>\n",
       "      <td>...</td>\n",
       "      <td>...</td>\n",
       "      <td>...</td>\n",
       "      <td>...</td>\n",
       "      <td>...</td>\n",
       "      <td>...</td>\n",
       "      <td>...</td>\n",
       "      <td>...</td>\n",
       "      <td>...</td>\n",
       "      <td>...</td>\n",
       "      <td>...</td>\n",
       "      <td>...</td>\n",
       "      <td>...</td>\n",
       "      <td>...</td>\n",
       "      <td>...</td>\n",
       "    </tr>\n",
       "    <tr>\n",
       "      <th>2023-03-27</th>\n",
       "      <td>0.229412</td>\n",
       "      <td>0.007067</td>\n",
       "      <td>0.001362</td>\n",
       "      <td>-0.090909</td>\n",
       "      <td>-0.010283</td>\n",
       "      <td>-0.014151</td>\n",
       "      <td>-0.083333</td>\n",
       "      <td>0.056818</td>\n",
       "      <td>-0.005161</td>\n",
       "      <td>0.000000</td>\n",
       "      <td>...</td>\n",
       "      <td>0.011532</td>\n",
       "      <td>0.000000</td>\n",
       "      <td>-0.044218</td>\n",
       "      <td>0.067568</td>\n",
       "      <td>0.055556</td>\n",
       "      <td>0.110294</td>\n",
       "      <td>-0.017081</td>\n",
       "      <td>0.000000</td>\n",
       "      <td>0.018182</td>\n",
       "      <td>0.001703</td>\n",
       "    </tr>\n",
       "    <tr>\n",
       "      <th>2023-03-28</th>\n",
       "      <td>-0.066986</td>\n",
       "      <td>-0.017544</td>\n",
       "      <td>0.004762</td>\n",
       "      <td>-0.100000</td>\n",
       "      <td>0.096104</td>\n",
       "      <td>-0.006507</td>\n",
       "      <td>0.000000</td>\n",
       "      <td>-0.008602</td>\n",
       "      <td>-0.033722</td>\n",
       "      <td>-0.034682</td>\n",
       "      <td>...</td>\n",
       "      <td>0.000000</td>\n",
       "      <td>0.000000</td>\n",
       "      <td>-0.023132</td>\n",
       "      <td>0.019891</td>\n",
       "      <td>-0.035088</td>\n",
       "      <td>0.006622</td>\n",
       "      <td>0.008847</td>\n",
       "      <td>0.000000</td>\n",
       "      <td>-0.026786</td>\n",
       "      <td>-0.001700</td>\n",
       "    </tr>\n",
       "    <tr>\n",
       "      <th>2023-03-29</th>\n",
       "      <td>-0.005128</td>\n",
       "      <td>0.000000</td>\n",
       "      <td>0.016249</td>\n",
       "      <td>0.111111</td>\n",
       "      <td>-0.052133</td>\n",
       "      <td>-0.038721</td>\n",
       "      <td>0.000000</td>\n",
       "      <td>-0.045553</td>\n",
       "      <td>0.006711</td>\n",
       "      <td>-0.029940</td>\n",
       "      <td>...</td>\n",
       "      <td>-0.002850</td>\n",
       "      <td>0.000000</td>\n",
       "      <td>-0.032787</td>\n",
       "      <td>0.029255</td>\n",
       "      <td>-0.018182</td>\n",
       "      <td>0.008772</td>\n",
       "      <td>-0.013467</td>\n",
       "      <td>0.000000</td>\n",
       "      <td>-0.009174</td>\n",
       "      <td>0.024404</td>\n",
       "    </tr>\n",
       "    <tr>\n",
       "      <th>2023-03-30</th>\n",
       "      <td>-0.051546</td>\n",
       "      <td>-0.017857</td>\n",
       "      <td>0.012658</td>\n",
       "      <td>0.200000</td>\n",
       "      <td>0.092500</td>\n",
       "      <td>-0.028858</td>\n",
       "      <td>0.000000</td>\n",
       "      <td>0.045455</td>\n",
       "      <td>-0.045333</td>\n",
       "      <td>-0.009259</td>\n",
       "      <td>...</td>\n",
       "      <td>0.021233</td>\n",
       "      <td>0.000476</td>\n",
       "      <td>-0.013183</td>\n",
       "      <td>-0.012920</td>\n",
       "      <td>-0.037037</td>\n",
       "      <td>0.069565</td>\n",
       "      <td>0.055238</td>\n",
       "      <td>0.000000</td>\n",
       "      <td>0.000000</td>\n",
       "      <td>-0.032687</td>\n",
       "    </tr>\n",
       "    <tr>\n",
       "      <th>2023-03-31</th>\n",
       "      <td>0.054348</td>\n",
       "      <td>0.032727</td>\n",
       "      <td>0.026974</td>\n",
       "      <td>0.083333</td>\n",
       "      <td>-0.011442</td>\n",
       "      <td>0.031779</td>\n",
       "      <td>0.000000</td>\n",
       "      <td>0.032609</td>\n",
       "      <td>0.005587</td>\n",
       "      <td>0.000000</td>\n",
       "      <td>...</td>\n",
       "      <td>0.017993</td>\n",
       "      <td>0.000000</td>\n",
       "      <td>0.026718</td>\n",
       "      <td>0.038394</td>\n",
       "      <td>0.057692</td>\n",
       "      <td>-0.056911</td>\n",
       "      <td>-0.075812</td>\n",
       "      <td>-0.002788</td>\n",
       "      <td>0.268518</td>\n",
       "      <td>0.044674</td>\n",
       "    </tr>\n",
       "  </tbody>\n",
       "</table>\n",
       "<p>1216 rows × 2500 columns</p>\n",
       "</div>"
      ],
      "text/plain": [
       "                IMPP      SXTC      ECAT      MULN      HYMC      CELZ  \\\n",
       "2018-06-04  0.000000  0.000000  0.000000 -0.028369  0.000000  0.084848   \n",
       "2018-06-05  0.000000  0.000000  0.000000 -0.013139  0.000000 -0.134078   \n",
       "2018-06-06  0.000000  0.000000  0.000000 -0.039941 -0.001041 -0.038710   \n",
       "2018-06-07  0.000000  0.000000  0.000000 -0.001541  0.003125  0.033557   \n",
       "2018-06-08  0.000000  0.000000  0.000000  0.141975  0.000000  0.103896   \n",
       "...              ...       ...       ...       ...       ...       ...   \n",
       "2023-03-27  0.229412  0.007067  0.001362 -0.090909 -0.010283 -0.014151   \n",
       "2023-03-28 -0.066986 -0.017544  0.004762 -0.100000  0.096104 -0.006507   \n",
       "2023-03-29 -0.005128  0.000000  0.016249  0.111111 -0.052133 -0.038721   \n",
       "2023-03-30 -0.051546 -0.017857  0.012658  0.200000  0.092500 -0.028858   \n",
       "2023-03-31  0.054348  0.032727  0.026974  0.083333 -0.011442  0.031779   \n",
       "\n",
       "                METX      ENSV      KAVL      BBIG  ...       BRP      LIBY  \\\n",
       "2018-06-04  0.000000 -0.081481  0.000000 -0.020000  ...  0.000000  0.000000   \n",
       "2018-06-05  0.000000 -0.032258  0.000000 -0.014084  ...  0.000000  0.000000   \n",
       "2018-06-06  0.000000  0.016667  0.000000 -0.010204  ...  0.000000  0.000000   \n",
       "2018-06-07  0.000000 -0.008197  0.000000 -0.005891  ...  0.000000  0.000000   \n",
       "2018-06-08  0.000000 -0.033058  0.000000  0.009630  ...  0.000000  0.000000   \n",
       "...              ...       ...       ...       ...  ...       ...       ...   \n",
       "2023-03-27 -0.083333  0.056818 -0.005161  0.000000  ...  0.011532  0.000000   \n",
       "2023-03-28  0.000000 -0.008602 -0.033722 -0.034682  ...  0.000000  0.000000   \n",
       "2023-03-29  0.000000 -0.045553  0.006711 -0.029940  ... -0.002850  0.000000   \n",
       "2023-03-30  0.000000  0.045455 -0.045333 -0.009259  ...  0.021233  0.000476   \n",
       "2023-03-31  0.000000  0.032609  0.005587  0.000000  ...  0.017993  0.000000   \n",
       "\n",
       "                 VOR      BWMX      BIMI      NPCE      LIVE      DHCA  \\\n",
       "2018-06-04  0.000000  0.000000  0.046875  0.000000 -0.003249  0.000000   \n",
       "2018-06-05  0.000000  0.000000  0.171642  0.000000  0.009780  0.000000   \n",
       "2018-06-06  0.000000  0.000000  0.082803  0.000000  0.017756  0.000000   \n",
       "2018-06-07  0.000000  0.000000  0.082353  0.000000 -0.005551  0.000000   \n",
       "2018-06-08  0.000000  0.000000  0.084239  0.000000  0.004785  0.000000   \n",
       "...              ...       ...       ...       ...       ...       ...   \n",
       "2023-03-27 -0.044218  0.067568  0.055556  0.110294 -0.017081  0.000000   \n",
       "2023-03-28 -0.023132  0.019891 -0.035088  0.006622  0.008847  0.000000   \n",
       "2023-03-29 -0.032787  0.029255 -0.018182  0.008772 -0.013467  0.000000   \n",
       "2023-03-30 -0.013183 -0.012920 -0.037037  0.069565  0.055238  0.000000   \n",
       "2023-03-31  0.026718  0.038394  0.057692 -0.056911 -0.075812 -0.002788   \n",
       "\n",
       "                MARK      RCUS  \n",
       "2018-06-04 -0.015385  0.041264  \n",
       "2018-06-05  0.149554 -0.018576  \n",
       "2018-06-06 -0.048544  0.006940  \n",
       "2018-06-07 -0.020408  0.020050  \n",
       "2018-06-08  0.039583  0.041155  \n",
       "...              ...       ...  \n",
       "2023-03-27  0.018182  0.001703  \n",
       "2023-03-28 -0.026786 -0.001700  \n",
       "2023-03-29 -0.009174  0.024404  \n",
       "2023-03-30  0.000000 -0.032687  \n",
       "2023-03-31  0.268518  0.044674  \n",
       "\n",
       "[1216 rows x 2500 columns]"
      ]
     },
     "execution_count": 54,
     "metadata": {},
     "output_type": "execute_result"
    }
   ],
   "source": [
    "ret_all"
   ]
  },
  {
   "cell_type": "code",
   "execution_count": 7,
   "id": "deb5127d-6f86-49f5-a354-502b5571a48f",
   "metadata": {},
   "outputs": [
    {
     "data": {
      "text/plain": [
       "(2.165479175649352, 29.116752413268642)"
      ]
     },
     "execution_count": 7,
     "metadata": {},
     "output_type": "execute_result"
    }
   ],
   "source": [
    "from scipy.stats import skew, kurtosis\n",
    "skew(ret_all_flat), kurtosis(ret_all_flat, fisher=True)"
   ]
  },
  {
   "cell_type": "code",
   "execution_count": 58,
   "id": "4a3ef7a4-4775-4268-a390-bceb3f274e86",
   "metadata": {},
   "outputs": [
    {
     "data": {
      "text/plain": [
       "<Axes: ylabel='Density'>"
      ]
     },
     "execution_count": 58,
     "metadata": {},
     "output_type": "execute_result"
    },
    {
     "data": {
      "image/png": "[encoded data removed]",
      "text/plain": [
       "<Figure size 640x480 with 1 Axes>"
      ]
     },
     "metadata": {},
     "output_type": "display_data"
    }
   ],
   "source": [
    "train = ret_all.loc[:inception_date].iloc[-TWO_YEAR_TRADE_DAYS:].values\n",
    "train_flat = train.flatten()\n",
    "train_flat = train_flat[train_flat != 0]\n",
    "m = train_flat.mean()\n",
    "s = train_flat.std()\n",
    "train_flat = train_flat.clip(m-2*s, m+2*s)\n",
    "sns.kdeplot(train_flat)"
   ]
  },
  {
   "cell_type": "code",
   "execution_count": 59,
   "id": "800539f0-4335-4c8b-b439-234a1eee2cb9",
   "metadata": {},
   "outputs": [
    {
     "data": {
      "text/plain": [
       "(504, 2500)"
      ]
     },
     "execution_count": 59,
     "metadata": {},
     "output_type": "execute_result"
    }
   ],
   "source": [
    "train.shape"
   ]
  },
  {
   "cell_type": "code",
   "execution_count": 60,
   "id": "b620e0c0-bbf4-4b60-82f3-1a344200dd15",
   "metadata": {},
   "outputs": [],
   "source": [
    "X = []\n",
    "y = []\n",
    "for i in range(train.shape[0] - WIN_LEN):\n",
    "    X.append(train[i:i+WIN_LEN, :])\n",
    "    y.append(train[i+WIN_LEN, :])\n",
    "X = np.array(X)\n",
    "y = np.array(y)"
   ]
  },
  {
   "cell_type": "code",
   "execution_count": 61,
   "id": "e3643211-fefa-4d03-b375-ab39bff82d7d",
   "metadata": {},
   "outputs": [
    {
     "data": {
      "text/plain": [
       "((494, 10, 2500), (494, 2500))"
      ]
     },
     "execution_count": 61,
     "metadata": {},
     "output_type": "execute_result"
    }
   ],
   "source": [
    "X.shape, y.shape"
   ]
  },
  {
   "cell_type": "code",
   "execution_count": 62,
   "id": "94f4223b-8c28-43b1-9290-f3cc49f0bf92",
   "metadata": {},
   "outputs": [
    {
     "data": {
      "text/plain": [
       "((370, 10, 2500), (124, 10, 2500), (370, 2500), (124, 2500))"
      ]
     },
     "execution_count": 62,
     "metadata": {},
     "output_type": "execute_result"
    }
   ],
   "source": [
    "X_train, X_val, y_train, y_val = train_test_split(X,y)\n",
    "X_train.shape, X_val.shape, y_train.shape, y_val.shape"
   ]
  },
  {
   "cell_type": "code",
   "execution_count": 67,
   "id": "e6d74405-e5bc-4337-b803-3a4164d0c22b",
   "metadata": {},
   "outputs": [],
   "source": [
    "lstm_cov = keras.Sequential([\n",
    "    layers.LSTM(64, return_sequences=False),\n",
    "    layers.Dense(UNIVERSE_SIZE),\n",
    "])"
   ]
  },
  {
   "cell_type": "code",
   "execution_count": 68,
   "id": "1d6345aa-3f7a-4012-9c19-bc612b675944",
   "metadata": {},
   "outputs": [],
   "source": [
    "lstm_cov.compile(\n",
    "    optimizer='rmsprop',\n",
    "    loss='mse',\n",
    ")\n",
    "# lstm_cov.build(X_train[0:BATCH_SIZE, :, :])\n",
    "# lstm_cov.summary()"
   ]
  },
  {
   "cell_type": "code",
   "execution_count": 69,
   "id": "ba5de1d2",
   "metadata": {},
   "outputs": [
    {
     "name": "stdout",
     "output_type": "stream",
     "text": [
      "Epoch 1/20\n",
      "24/24 [==============================] - 2s 23ms/step - loss: 0.1420 - val_loss: 0.0059\n",
      "Epoch 2/20\n",
      "24/24 [==============================] - 0s 10ms/step - loss: 0.1418 - val_loss: 0.0059\n",
      "Epoch 3/20\n",
      "24/24 [==============================] - 0s 10ms/step - loss: 0.1416 - val_loss: 0.0059\n",
      "Epoch 4/20\n",
      "24/24 [==============================] - 0s 11ms/step - loss: 0.1413 - val_loss: 0.0060\n",
      "Epoch 5/20\n",
      "24/24 [==============================] - 0s 10ms/step - loss: 0.1409 - val_loss: 0.0060\n",
      "Epoch 6/20\n",
      "24/24 [==============================] - 0s 10ms/step - loss: 0.1405 - val_loss: 0.0062\n",
      "Epoch 7/20\n",
      "24/24 [==============================] - 0s 10ms/step - loss: 0.1401 - val_loss: 0.0061\n",
      "Epoch 8/20\n",
      "24/24 [==============================] - 0s 10ms/step - loss: 0.1397 - val_loss: 0.0062\n",
      "Epoch 9/20\n",
      "24/24 [==============================] - 0s 10ms/step - loss: 0.1394 - val_loss: 0.0062\n",
      "Epoch 10/20\n",
      "24/24 [==============================] - 0s 10ms/step - loss: 0.1391 - val_loss: 0.0062\n",
      "Epoch 11/20\n",
      "24/24 [==============================] - 0s 10ms/step - loss: 0.1388 - val_loss: 0.0063\n",
      "Epoch 12/20\n",
      "24/24 [==============================] - 0s 10ms/step - loss: 0.1384 - val_loss: 0.0063\n",
      "Epoch 13/20\n",
      "24/24 [==============================] - 0s 10ms/step - loss: 0.1382 - val_loss: 0.0064\n",
      "Epoch 14/20\n",
      "24/24 [==============================] - 0s 10ms/step - loss: 0.1379 - val_loss: 0.0064\n",
      "Epoch 15/20\n",
      "24/24 [==============================] - 0s 10ms/step - loss: 0.1376 - val_loss: 0.0064\n",
      "Epoch 16/20\n",
      "24/24 [==============================] - 0s 11ms/step - loss: 0.1373 - val_loss: 0.0065\n",
      "Epoch 17/20\n",
      "24/24 [==============================] - 0s 10ms/step - loss: 0.1370 - val_loss: 0.0065\n",
      "Epoch 18/20\n",
      "24/24 [==============================] - 0s 10ms/step - loss: 0.1368 - val_loss: 0.0065\n",
      "Epoch 19/20\n",
      "24/24 [==============================] - 0s 11ms/step - loss: 0.1365 - val_loss: 0.0066\n",
      "Epoch 20/20\n",
      "24/24 [==============================] - 0s 13ms/step - loss: 0.1363 - val_loss: 0.0068\n"
     ]
    }
   ],
   "source": [
    "esc = tf.keras.callbacks.EarlyStopping(\n",
    "    monitor='val_loss',\n",
    "    patience=2,\n",
    "    mode='auto',\n",
    ")\n",
    "\n",
    "history_lstm_cov = lstm_cov.fit(\n",
    "    x=X_train, y=y_train, validation_data=(X_val, y_val), epochs=EPOCH, batch_size=BATCH_SIZE)\n",
    "    "
   ]
  },
  {
   "cell_type": "code",
   "execution_count": 70,
   "id": "f749bd24",
   "metadata": {},
   "outputs": [
    {
     "data": {
      "text/plain": [
       "<Axes: >"
      ]
     },
     "execution_count": 70,
     "metadata": {},
     "output_type": "execute_result"
    },
    {
     "data": {
      "image/png": "[encoded data removed]",
      "text/plain": [
       "<Figure size 640x480 with 1 Axes>"
      ]
     },
     "metadata": {},
     "output_type": "display_data"
    }
   ],
   "source": [
    "sns.lineplot(history_lstm_cov.history)"
   ]
  },
  {
   "cell_type": "code",
   "execution_count": 89,
   "id": "274099de",
   "metadata": {},
   "outputs": [],
   "source": [
    "## get ticker returns\n",
    "test_start_date = ret.loc[:inception_date].iloc[-WIN_LEN:].index[0]\n",
    "test = ret_all.loc[test_start_date:].iloc[:ONE_YEAR_TRADE_DAYS + WIN_LEN].values\n",
    "X_test = []\n",
    "y_test = []\n",
    "for i in range(test.shape[0] - WIN_LEN):\n",
    "    X_test.append(test[i:i+WIN_LEN, :])\n",
    "    y_test.append(test[i+WIN_LEN, :])\n",
    "X_test = np.array(X_test)\n",
    "y_test = np.array(y_test)"
   ]
  },
  {
   "cell_type": "code",
   "execution_count": 94,
   "id": "efd4124b",
   "metadata": {},
   "outputs": [],
   "source": [
    "test_index = ret_all.loc[test_start_date:].iloc[:ONE_YEAR_TRADE_DAYS + WIN_LEN].index[WIN_LEN:]"
   ]
  },
  {
   "cell_type": "code",
   "execution_count": 90,
   "id": "4a1b6ba7",
   "metadata": {},
   "outputs": [
    {
     "data": {
      "text/plain": [
       "(251, 2500)"
      ]
     },
     "execution_count": 90,
     "metadata": {},
     "output_type": "execute_result"
    }
   ],
   "source": [
    "y_test.shape"
   ]
  },
  {
   "cell_type": "code",
   "execution_count": 91,
   "id": "e054d001",
   "metadata": {},
   "outputs": [
    {
     "name": "stdout",
     "output_type": "stream",
     "text": [
      "8/8 [==============================] - 0s 5ms/step\n"
     ]
    }
   ],
   "source": [
    "y_pred_test = lstm_cov.predict(X_test)"
   ]
  },
  {
   "cell_type": "code",
   "execution_count": 86,
   "id": "e2151757",
   "metadata": {},
   "outputs": [
    {
     "data": {
      "text/plain": [
       "(242, 2500)"
      ]
     },
     "execution_count": 86,
     "metadata": {},
     "output_type": "execute_result"
    }
   ],
   "source": [
    "y_pred_test.shape"
   ]
  },
  {
   "cell_type": "code",
   "execution_count": 118,
   "id": "100979d3",
   "metadata": {},
   "outputs": [],
   "source": [
    "import numpy as np\n",
    "import seaborn as sns\n",
    "import pandas as pd\n",
    "import matplotlib.pyplot as plt\n",
    "from loguru import logger\n",
    "\n",
    "def plot_mse(pred: pd.DataFrame, gt: pd.DataFrame, index: [pd.Timestamp]) -> plt.Axes:\n",
    "    if pred.shape != gt.shape:\n",
    "        logger.error('Index not match for pred and gt')\n",
    "        raise ValueError('Index not match for pred and gt')\n",
    "    \n",
    "\n",
    "    mse_by_time = ((pred - gt) ** 2).sum(axis=1)\n",
    "    mse_df = pd.Series(mse_by_time, index=index)\n",
    "    mse_df.index = pd.to_datetime(mse_df.index)\n",
    "    plot = mse_df.plot.line()\n",
    "    return plot, mse_df\n"
   ]
  },
  {
   "cell_type": "code",
   "execution_count": 119,
   "id": "746edf9f",
   "metadata": {},
   "outputs": [
    {
     "data": {
      "image/png": "[encoded data removed]",
      "text/plain": [
       "<Figure size 640x480 with 1 Axes>"
      ]
     },
     "metadata": {},
     "output_type": "display_data"
    }
   ],
   "source": [
    "ax, mse_df = plot_mse(y_pred_test, y_test, test_index)"
   ]
  }
 ],
 "metadata": {
  "kernelspec": {
   "display_name": "Python 3 (ipykernel)",
   "language": "python",
   "name": "python3"
  },
  "language_info": {
   "codemirror_mode": {
    "name": "ipython",
    "version": 3
   },
   "file_extension": ".py",
   "mimetype": "text/x-python",
   "name": "python",
   "nbconvert_exporter": "python",
   "pygments_lexer": "ipython3",
   "version": "3.9.16"
  }
 },
 "nbformat": 4,
 "nbformat_minor": 5
}
