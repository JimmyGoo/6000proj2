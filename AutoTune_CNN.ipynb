{
  "nbformat": 4,
  "nbformat_minor": 0,
  "metadata": {
    "colab": {
      "provenance": []
    },
    "kernelspec": {
      "name": "python3",
      "display_name": "Python 3"
    },
    "language_info": {
      "name": "python"
    }
  },
  "cells": [
    {
      "cell_type": "code",
      "execution_count": 1,
      "metadata": {
        "colab": {
          "base_uri": "https://localhost:8080/"
        },
        "id": "3F4_EDszaslX",
        "outputId": "cebc998f-3ddc-4de6-ceff-1be7d1e980b1"
      },
      "outputs": [
        {
          "output_type": "stream",
          "name": "stdout",
          "text": [
            "Drive already mounted at /content/drive; to attempt to forcibly remount, call drive.mount(\"/content/drive\", force_remount=True).\n"
          ]
        }
      ],
      "source": [
        "import sys\n",
        "from google.colab import drive\n",
        "drive.mount('/content/drive')\n",
        "# to use the packages in google drive\n",
        "sys.path.append('/content/drive/My Drive/6000M_proj2/proj2')"
      ]
    },
    {
      "cell_type": "code",
      "source": [
        "from tensorflow import keras"
      ],
      "metadata": {
        "id": "lfqJBa76cX-P"
      },
      "execution_count": 2,
      "outputs": []
    },
    {
      "cell_type": "code",
      "source": [
        "# !pip install loguru"
      ],
      "metadata": {
        "id": "AZMsm6Jkgfgf"
      },
      "execution_count": 3,
      "outputs": []
    },
    {
      "cell_type": "code",
      "source": [
        "import yfinance as yf\n",
        "import pandas as pd\n",
        "import seaborn as sns\n",
        "import numpy as np\n",
        "import tensorflow as tf\n",
        "\n",
        "from tensorflow import keras\n",
        "from tensorflow.keras import layers\n",
        "from keras.layers import Dense, Conv1D, Flatten, MaxPooling1D, Dropout, LeakyReLU, LSTM, BatchNormalization\n",
        "from keras.models import Sequential\n",
        "from sklearn.model_selection import train_test_split\n",
        "from tqdm import tqdm\n",
        "from pathlib import Path\n",
        "from concurrent.futures import ProcessPoolExecutor\n",
        "from scipy.stats import skew, kurtosis\n",
        "from os.path import join\n",
        "\n",
        "from config import *\n",
        "from src.universe import Universe\n",
        "from src.utils import time_series_generator\n",
        "from src.metrics import plot_mse"
      ],
      "metadata": {
        "id": "Nm5qK_NGcQ34"
      },
      "execution_count": 4,
      "outputs": []
    },
    {
      "cell_type": "code",
      "source": [
        "# !pip install keras-tuner --upgrade"
      ],
      "metadata": {
        "id": "YYQ_E_F0fkRV"
      },
      "execution_count": 5,
      "outputs": []
    },
    {
      "cell_type": "code",
      "source": [
        "import keras_tuner\n",
        "\n",
        "def build_model(hp):\n",
        "    model = keras.Sequential()\n",
        "    # Tune the number of layers.\n",
        "    for i in range(hp.Int(\"num_layers\", 1, 3)):\n",
        "        model.add(\n",
        "            Conv1D(\n",
        "                # Tune number of units separately.\n",
        "                filters=hp.Int(f\"units_{i}\", min_value=32, max_value=512, step=32),\n",
        "                kernel_size = hp.Int(f\"kernel_{i}\", min_value=1, max_value=3, step=1),\n",
        "                activation=hp.Choice(\"activation\", [\"relu\", \"tanh\"]),\n",
        "                padding='same',\n",
        "                data_format=\"channels_last\")\n",
        "        )\n",
        "    model.add(Flatten())\n",
        "    model.add(layers.Dense(hp.Int(\"dense\", min_value=32, max_value=512, step=32), activation=\"relu\"))\n",
        "    if hp.Boolean(\"dropout\"):\n",
        "        model.add(layers.Dropout(rate=hp.Int(\"dropout\", min_value=1, max_value=9, step=1)/10))\n",
        "    model.add(layers.Dense(2500))\n",
        "\n",
        "    model.compile(\n",
        "        optimizer='rmsprop',\n",
        "        loss=\"mse\",\n",
        "        metrics=[\"mse\"],\n",
        "    )\n",
        "    return model\n",
        "\n",
        "\n",
        "build_model(keras_tuner.HyperParameters())"
      ],
      "metadata": {
        "colab": {
          "base_uri": "https://localhost:8080/"
        },
        "id": "kI5nzISfbX9t",
        "outputId": "dafd6d80-5ce7-4b07-eba7-7d5269c17f43"
      },
      "execution_count": 6,
      "outputs": [
        {
          "output_type": "execute_result",
          "data": {
            "text/plain": [
              "<keras.engine.sequential.Sequential at 0x7f06cc843fa0>"
            ]
          },
          "metadata": {},
          "execution_count": 6
        }
      ]
    },
    {
      "cell_type": "code",
      "source": [
        "tuner = keras_tuner.RandomSearch(\n",
        "    hypermodel=build_model,\n",
        "    objective=\"val_loss\",\n",
        "    max_trials=10,\n",
        "    executions_per_trial=10,\n",
        "    overwrite=True,\n",
        "    directory=\"my_dir\",\n",
        "    project_name=\"CNN1D\",\n",
        ")"
      ],
      "metadata": {
        "id": "1buGrzE3cNvT"
      },
      "execution_count": 7,
      "outputs": []
    },
    {
      "cell_type": "code",
      "source": [
        "tuner.search_space_summary()"
      ],
      "metadata": {
        "colab": {
          "base_uri": "https://localhost:8080/"
        },
        "id": "pWBw0zCkcUSE",
        "outputId": "c01a35a8-005b-48c7-c3bb-73cffed646db"
      },
      "execution_count": 8,
      "outputs": [
        {
          "output_type": "stream",
          "name": "stdout",
          "text": [
            "Search space summary\n",
            "Default search space size: 6\n",
            "num_layers (Int)\n",
            "{'default': None, 'conditions': [], 'min_value': 1, 'max_value': 3, 'step': 1, 'sampling': 'linear'}\n",
            "units_0 (Int)\n",
            "{'default': None, 'conditions': [], 'min_value': 32, 'max_value': 512, 'step': 32, 'sampling': 'linear'}\n",
            "kernel_0 (Int)\n",
            "{'default': None, 'conditions': [], 'min_value': 1, 'max_value': 3, 'step': 1, 'sampling': 'linear'}\n",
            "activation (Choice)\n",
            "{'default': 'relu', 'conditions': [], 'values': ['relu', 'tanh'], 'ordered': False}\n",
            "dense (Int)\n",
            "{'default': None, 'conditions': [], 'min_value': 32, 'max_value': 512, 'step': 32, 'sampling': 'linear'}\n",
            "dropout (Boolean)\n",
            "{'default': False, 'conditions': []}\n"
          ]
        }
      ]
    },
    {
      "cell_type": "code",
      "source": [
        "inception_date = '2022-03-31'\n",
        "ONE_YEAR_TRADE_DAYS = 252\n",
        "TWO_YEAR_TRADE_DAYS = ONE_YEAR_TRADE_DAYS * 2\n",
        "WIN_LEN = 30\n",
        "UNIVERSE_SIZE = 2500\n",
        "EPOCH = 20\n",
        "BATCH_SIZE = 16\n",
        "training_path = Path(join(data_path, 'train_set'))\n",
        "ret_train = pd.read_csv(join(training_path, '2022-03-31.csv'), index_col=0)\n",
        "X, y = time_series_generator(ret_train, WIN_LEN)\n",
        "train_index = ret_train.loc[:inception_date].iloc[-TWO_YEAR_TRADE_DAYS:].index\n",
        "X_train, X_val, y_train, y_val = train_test_split(X,y)\n",
        "X_train.shape, X_val.shape, y_train.shape, y_val.shape"
      ],
      "metadata": {
        "colab": {
          "base_uri": "https://localhost:8080/"
        },
        "id": "ENXsQr7MfrxS",
        "outputId": "1076289b-3066-46d2-f95a-b95eaeb97d5b"
      },
      "execution_count": 9,
      "outputs": [
        {
          "output_type": "execute_result",
          "data": {
            "text/plain": [
              "((378, 30, 2500), (126, 30, 2500), (378, 2500), (126, 2500))"
            ]
          },
          "metadata": {},
          "execution_count": 9
        }
      ]
    },
    {
      "cell_type": "code",
      "source": [
        "tuner.search(X_train, y_train, epochs=2, validation_data=(X_val, y_val))"
      ],
      "metadata": {
        "colab": {
          "base_uri": "https://localhost:8080/"
        },
        "id": "B9Yhn6xvcUvN",
        "outputId": "15ba5d07-56ab-4b8c-b7c9-876264b790fc"
      },
      "execution_count": 10,
      "outputs": [
        {
          "output_type": "stream",
          "name": "stdout",
          "text": [
            "Trial 10 Complete [00h 01m 24s]\n",
            "val_loss: 0.0027173767331987618\n",
            "\n",
            "Best val_loss So Far: 0.0027173767331987618\n",
            "Total elapsed time: 00h 17m 15s\n"
          ]
        }
      ]
    },
    {
      "cell_type": "code",
      "source": [
        "models = tuner.get_best_models(num_models=2)\n",
        "best_model = models[0]"
      ],
      "metadata": {
        "id": "khtWGmHwpjIu"
      },
      "execution_count": 11,
      "outputs": []
    },
    {
      "cell_type": "code",
      "source": [
        "best_model.build(input_shape=(None, 30, 2500))"
      ],
      "metadata": {
        "id": "Bh_97J_Qppev"
      },
      "execution_count": 13,
      "outputs": []
    },
    {
      "cell_type": "code",
      "source": [
        "best_model.summary()"
      ],
      "metadata": {
        "colab": {
          "base_uri": "https://localhost:8080/"
        },
        "id": "96j5M9oLpzPL",
        "outputId": "107abebe-bc7b-4e47-a2fa-943c0c3cf787"
      },
      "execution_count": 14,
      "outputs": [
        {
          "output_type": "stream",
          "name": "stdout",
          "text": [
            "Model: \"sequential\"\n",
            "_________________________________________________________________\n",
            " Layer (type)                Output Shape              Param #   \n",
            "=================================================================\n",
            " conv1d (Conv1D)             (None, 30, 32)            240032    \n",
            "                                                                 \n",
            " conv1d_1 (Conv1D)           (None, 30, 512)           33280     \n",
            "                                                                 \n",
            " conv1d_2 (Conv1D)           (None, 30, 320)           491840    \n",
            "                                                                 \n",
            " flatten (Flatten)           (None, 9600)              0         \n",
            "                                                                 \n",
            " dense (Dense)               (None, 64)                614464    \n",
            "                                                                 \n",
            " dense_1 (Dense)             (None, 2500)              162500    \n",
            "                                                                 \n",
            "=================================================================\n",
            "Total params: 1,542,116\n",
            "Trainable params: 1,542,116\n",
            "Non-trainable params: 0\n",
            "_________________________________________________________________\n"
          ]
        }
      ]
    },
    {
      "cell_type": "code",
      "source": [
        "tuner.results_summary()"
      ],
      "metadata": {
        "colab": {
          "base_uri": "https://localhost:8080/"
        },
        "id": "pTzsiHfvp5eH",
        "outputId": "5b70fbdc-b8ec-4628-c98b-eee872a33c07"
      },
      "execution_count": 15,
      "outputs": [
        {
          "output_type": "stream",
          "name": "stdout",
          "text": [
            "Results summary\n",
            "Results in my_dir/CNN1D\n",
            "Showing 10 best trials\n",
            "Objective(name=\"val_loss\", direction=\"min\")\n",
            "\n",
            "Trial 09 summary\n",
            "Hyperparameters:\n",
            "num_layers: 3\n",
            "units_0: 32\n",
            "kernel_0: 3\n",
            "activation: relu\n",
            "dense: 64\n",
            "dropout: False\n",
            "units_1: 512\n",
            "kernel_1: 2\n",
            "units_2: 320\n",
            "kernel_2: 3\n",
            "Score: 0.0027173767331987618\n",
            "\n",
            "Trial 04 summary\n",
            "Hyperparameters:\n",
            "num_layers: 3\n",
            "units_0: 96\n",
            "kernel_0: 1\n",
            "activation: relu\n",
            "dense: 512\n",
            "dropout: False\n",
            "units_1: 32\n",
            "kernel_1: 3\n",
            "units_2: 320\n",
            "kernel_2: 2\n",
            "Score: 0.0027410766342654824\n",
            "\n",
            "Trial 08 summary\n",
            "Hyperparameters:\n",
            "num_layers: 1\n",
            "units_0: 448\n",
            "kernel_0: 2\n",
            "activation: tanh\n",
            "dense: 64\n",
            "dropout: False\n",
            "units_1: 288\n",
            "kernel_1: 2\n",
            "units_2: 224\n",
            "kernel_2: 3\n",
            "Score: 0.002887316280975938\n",
            "\n",
            "Trial 01 summary\n",
            "Hyperparameters:\n",
            "num_layers: 1\n",
            "units_0: 256\n",
            "kernel_0: 3\n",
            "activation: relu\n",
            "dense: 224\n",
            "dropout: False\n",
            "units_1: 256\n",
            "kernel_1: 3\n",
            "Score: 0.0029107048176229\n",
            "\n",
            "Trial 05 summary\n",
            "Hyperparameters:\n",
            "num_layers: 1\n",
            "units_0: 448\n",
            "kernel_0: 3\n",
            "activation: relu\n",
            "dense: 384\n",
            "dropout: True\n",
            "units_1: 224\n",
            "kernel_1: 1\n",
            "units_2: 192\n",
            "kernel_2: 3\n",
            "Score: 0.0029325797222554684\n",
            "\n",
            "Trial 06 summary\n",
            "Hyperparameters:\n",
            "num_layers: 1\n",
            "units_0: 256\n",
            "kernel_0: 1\n",
            "activation: relu\n",
            "dense: 320\n",
            "dropout: True\n",
            "units_1: 192\n",
            "kernel_1: 3\n",
            "units_2: 32\n",
            "kernel_2: 2\n",
            "Score: 0.0029622033005580308\n",
            "\n",
            "Trial 02 summary\n",
            "Hyperparameters:\n",
            "num_layers: 1\n",
            "units_0: 224\n",
            "kernel_0: 3\n",
            "activation: tanh\n",
            "dense: 288\n",
            "dropout: False\n",
            "units_1: 32\n",
            "kernel_1: 1\n",
            "Score: 0.0034488523844629524\n",
            "\n",
            "Trial 07 summary\n",
            "Hyperparameters:\n",
            "num_layers: 1\n",
            "units_0: 480\n",
            "kernel_0: 3\n",
            "activation: tanh\n",
            "dense: 320\n",
            "dropout: False\n",
            "units_1: 288\n",
            "kernel_1: 3\n",
            "units_2: 352\n",
            "kernel_2: 1\n",
            "Score: 0.0034878432750701906\n",
            "\n",
            "Trial 03 summary\n",
            "Hyperparameters:\n",
            "num_layers: 3\n",
            "units_0: 256\n",
            "kernel_0: 2\n",
            "activation: tanh\n",
            "dense: 512\n",
            "dropout: True\n",
            "units_1: 352\n",
            "kernel_1: 2\n",
            "units_2: 32\n",
            "kernel_2: 1\n",
            "Score: 0.0036723556695505977\n",
            "\n",
            "Trial 00 summary\n",
            "Hyperparameters:\n",
            "num_layers: 2\n",
            "units_0: 320\n",
            "kernel_0: 1\n",
            "activation: tanh\n",
            "dense: 384\n",
            "dropout: True\n",
            "units_1: 32\n",
            "kernel_1: 1\n",
            "Score: 0.0037347507197409867\n"
          ]
        }
      ]
    }
  ]
}