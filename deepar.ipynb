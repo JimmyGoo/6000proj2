{
 "cells": [
  {
   "cell_type": "code",
   "execution_count": null,
   "metadata": {},
   "outputs": [],
   "source": [
    "import yfinance as yf\n",
    "import pandas as pd\n",
    "import seaborn as sns\n",
    "import numpy as np\n",
    "import tensorflow as tf\n",
    "\n",
    "from tensorflow import keras\n",
    "from tensorflow.keras import layers, losses\n",
    "from sklearn.model_selection import train_test_split\n",
    "from tqdm import tqdm\n",
    "from pathlib import Path\n",
    "from loguru import logger\n",
    "from concurrent.futures import ProcessPoolExecutor\n",
    "from scipy.stats import skew, kurtosis\n",
    "\n",
    "from src.universe import Universe\n",
    "from src.utils import time_series_generator\n",
    "from src.metrics import plot_mse, generate_report\n",
    "from src.model.deepar import DeepAR"
   ]
  },
  {
   "cell_type": "code",
   "execution_count": null,
   "metadata": {},
   "outputs": [],
   "source": [
    "inception_date = '2022-03-31'\n",
    "ONE_YEAR_TRADE_DAYS = 252\n",
    "TWO_YEAR_TRADE_DAYS = ONE_YEAR_TRADE_DAYS * 2\n",
    "WIN_LEN = 30\n",
    "UNIVERSE_SIZE = 2500\n",
    "EPOCH = 20\n",
    "BATCH_SIZE = 16"
   ]
  },
  {
   "cell_type": "code",
   "execution_count": null,
   "metadata": {},
   "outputs": [],
   "source": [
    "universe = Universe()"
   ]
  },
  {
   "cell_type": "code",
   "execution_count": null,
   "metadata": {},
   "outputs": [],
   "source": [
    "liquid_ticker_ret = universe.get_liquid_ticker_return('2022-03-31')"
   ]
  },
  {
   "cell_type": "code",
   "execution_count": null,
   "metadata": {},
   "outputs": [],
   "source": [
    "ret_train = liquid_ticker_ret.loc[:inception_date].iloc[-TWO_YEAR_TRADE_DAYS-WIN_LEN:]\n",
    "train_index = ret_train.loc[:inception_date].iloc[-TWO_YEAR_TRADE_DAYS:].index\n",
    "train_flat = ret_train.values.flatten()\n",
    "train_flat = train_flat[train_flat != 0]\n",
    "m = train_flat.mean()\n",
    "s = train_flat.std()\n",
    "train_flat = train_flat.clip(m-2*s, m+2*s)\n",
    "sns.kdeplot(train_flat)"
   ]
  },
  {
   "cell_type": "code",
   "execution_count": null,
   "metadata": {},
   "outputs": [],
   "source": [
    "ret_train = ret_train.clip(m-2*s, m+2*s)\n",
    "X, y = time_series_generator(ret_train, WIN_LEN)"
   ]
  },
  {
   "cell_type": "code",
   "execution_count": null,
   "metadata": {},
   "outputs": [],
   "source": [
    "X_train, X_val, y_train, y_val = train_test_split(X,y)\n",
    "X_train.shape, X_val.shape, y_train.shape, y_val.shape"
   ]
  },
  {
   "cell_type": "code",
   "execution_count": null,
   "metadata": {},
   "outputs": [],
   "source": [
    "deepar = DeepAR(WIN_LEN, UNIVERSE_SIZE)"
   ]
  },
  {
   "cell_type": "code",
   "execution_count": null,
   "metadata": {},
   "outputs": [],
   "source": [
    "deepar.build_and_compile()"
   ]
  },
  {
   "cell_type": "code",
   "execution_count": null,
   "metadata": {},
   "outputs": [],
   "source": [
    "deepar.summary()"
   ]
  },
  {
   "cell_type": "code",
   "execution_count": null,
   "metadata": {},
   "outputs": [],
   "source": [
    "esc = tf.keras.callbacks.EarlyStopping(\n",
    "    monitor='val_mse',\n",
    "    patience=2,\n",
    "    mode='auto',\n",
    ")\n",
    "deepar.fit(\n",
    "    x=X_train, y=y_train, validation_data=(X_val, y_val), \n",
    "    epochs=EPOCH, batch_size=BATCH_SIZE,\n",
    "    callbacks=[esc]\n",
    "    )"
   ]
  },
  {
   "cell_type": "code",
   "execution_count": null,
   "metadata": {},
   "outputs": [],
   "source": [
    "## get ticker returns\n",
    "test_start_date = liquid_ticker_ret.loc[:inception_date].iloc[-WIN_LEN:].index[0]\n",
    "ret_test = liquid_ticker_ret.loc[test_start_date:].iloc[:ONE_YEAR_TRADE_DAYS + WIN_LEN+1]\n",
    "ret_test = ret_test.clip(m-2*s, m+2*s)\n",
    "X_test, y_test = time_series_generator(ret_test, WIN_LEN)"
   ]
  },
  {
   "cell_type": "code",
   "execution_count": null,
   "metadata": {},
   "outputs": [],
   "source": [
    "test_index = ret_test.loc[inception_date:].iloc[1:ONE_YEAR_TRADE_DAYS].index\n",
    "test_index"
   ]
  },
  {
   "cell_type": "code",
   "execution_count": null,
   "metadata": {},
   "outputs": [],
   "source": [
    "y_pred_train_mu = deepar.predict_mu(X)\n",
    "y_pred_test_mu = deepar.predict_mu(X_test)\n",
    "\n",
    "y_pred_train_rand = deepar.predict_rand(X)\n",
    "y_pred_test_rand = deepar.predict_rand(X_test)"
   ]
  },
  {
   "cell_type": "code",
   "execution_count": null,
   "metadata": {},
   "outputs": [],
   "source": [
    "ax_train, mse_df_train = plot_mse([y_pred_train_mu, y_pred_train_rand], y, ['deepar_mu', 'deepar_rand'], train_index)"
   ]
  },
  {
   "cell_type": "code",
   "execution_count": null,
   "metadata": {},
   "outputs": [],
   "source": [
    "ax_test, mse_df_test = plot_mse([y_pred_test_mu, y_pred_test_rand], y_test, ['deepar_mu', 'deepar_rand'], test_index)"
   ]
  },
  {
   "cell_type": "code",
   "execution_count": null,
   "metadata": {},
   "outputs": [],
   "source": [
    "generate_report([y_pred_test_mu, y_pred_test_rand], y_test, ['deepar_mu', 'deepar_rand'])"
   ]
  }
 ],
 "metadata": {
  "kernelspec": {
   "display_name": "py39",
   "language": "python",
   "name": "python3"
  },
  "language_info": {
   "codemirror_mode": {
    "name": "ipython",
    "version": 3
   },
   "file_extension": ".py",
   "mimetype": "text/x-python",
   "name": "python",
   "nbconvert_exporter": "python",
   "pygments_lexer": "ipython3",
   "version": "3.9.16"
  },
  "orig_nbformat": 4
 },
 "nbformat": 4,
 "nbformat_minor": 2
}
